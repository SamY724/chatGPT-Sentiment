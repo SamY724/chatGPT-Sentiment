{
  "nbformat": 4,
  "nbformat_minor": 0,
  "metadata": {
    "colab": {
      "provenance": []
    },
    "kernelspec": {
      "name": "python3",
      "display_name": "Python 3"
    },
    "language_info": {
      "name": "python"
    }
  },
  "cells": [
    {
      "cell_type": "markdown",
      "source": [
        "This colab notebook contains my NLP project based around ChatGPT sentiments.\n",
        "\n",
        "I consider this topic to be highly interesting, as ChatGPT and it's successor GPT-4 have really broadened people's perspective to the capabilities of AI, and I have noticed family and friends expressing a variety of opinions around the matter.\n",
        " As such, I figure it is worth investigating the common consensus based on appropriate reddit communites to figure out how well the outstanding chat bot is being received."
      ],
      "metadata": {
        "id": "VQyxEJdIBfu1"
      }
    },
    {
      "cell_type": "code",
      "source": [
        "import pandas as pd\n",
        "import numpy as np\n",
        "\n",
        "import nltk\n",
        "from nltk.sentiment.vader import SentimentIntensityAnalyzer\n",
        "from nltk.tokenize import word_tokenize, RegexpTokenizer\n",
        "from nltk.corpus import stopwords\n",
        "from pprint import pprint\n",
        "\n",
        "import matplotlib.pyplot as plt\n",
        "%matplotlib inline\n",
        "plt.rcParams[\"figure.figsize\"] = (8, 6)\n",
        "\n",
        "import seaborn as sns\n",
        "sns.set_theme(style=\"darkgrid\")\n",
        "\n",
        "import re\n",
        "from google.colab import drive"
      ],
      "metadata": {
        "id": "ZKzgGrla0jDd"
      },
      "execution_count": 29,
      "outputs": []
    },
    {
      "cell_type": "code",
      "source": [
        "nltk.download('vader_lexicon') #vader is designed specifically for social media interactions\n",
        "nltk.download('punkt') #tokenizing\n",
        "nltk.download('stopwords') #stopwords allows the tokenization and analysis of words to be more precise"
      ],
      "metadata": {
        "colab": {
          "base_uri": "https://localhost:8080/"
        },
        "id": "Zw5yoMDQ098T",
        "outputId": "ed5946e6-21b2-4430-be70-b78f7c6943ca"
      },
      "execution_count": 3,
      "outputs": [
        {
          "output_type": "stream",
          "name": "stderr",
          "text": [
            "[nltk_data] Downloading package vader_lexicon to /root/nltk_data...\n",
            "[nltk_data] Downloading package punkt to /root/nltk_data...\n",
            "[nltk_data]   Unzipping tokenizers/punkt.zip.\n",
            "[nltk_data] Downloading package stopwords to /root/nltk_data...\n",
            "[nltk_data]   Unzipping corpora/stopwords.zip.\n"
          ]
        },
        {
          "output_type": "execute_result",
          "data": {
            "text/plain": [
              "True"
            ]
          },
          "metadata": {},
          "execution_count": 3
        }
      ]
    },
    {
      "cell_type": "code",
      "source": [
        "drive.mount('/content/drive') #activating drive, so I can read in my csv file\n"
      ],
      "metadata": {
        "id": "GLyYJBarCGL9",
        "colab": {
          "base_uri": "https://localhost:8080/"
        },
        "outputId": "34379323-eee0-4f22-9fbd-4acd7f71bb31"
      },
      "execution_count": 4,
      "outputs": [
        {
          "output_type": "stream",
          "name": "stdout",
          "text": [
            "Mounted at /content/drive\n"
          ]
        }
      ]
    },
    {
      "cell_type": "code",
      "source": [
        "path = \"/content/chatgpt-reddit-comments.csv\"\n",
        "\n",
        "df = pd.read_csv(path)\n",
        "\n",
        "df.head() #assigning csv to dataframe for manipulation"
      ],
      "metadata": {
        "colab": {
          "base_uri": "https://localhost:8080/",
          "height": 206
        },
        "id": "-xEH4HiKmWR-",
        "outputId": "4641c489-b897-4888-c9e3-ff28a1d889ae"
      },
      "execution_count": 5,
      "outputs": [
        {
          "output_type": "execute_result",
          "data": {
            "text/plain": [
              "  comment_id                                       comment_body  subreddit\n",
              "0    iztdxuh  I've been shocked for days now, I don't need c...  r/ChatGPT\n",
              "1    iztn0q0   \\n\\nI am so angry right now. I just wasted my...  r/ChatGPT\n",
              "2    izudrph  chatgpt karma whoring is here folks! just when...  r/ChatGPT\n",
              "3    iztfhtb                                 Worked on me, ngl.  r/ChatGPT\n",
              "4    izu2as9  Certified 10/10, must-see moment. It really di...  r/ChatGPT"
            ],
            "text/html": [
              "\n",
              "  <div id=\"df-50d060c4-3a38-47a4-934c-3f1182a5c813\">\n",
              "    <div class=\"colab-df-container\">\n",
              "      <div>\n",
              "<style scoped>\n",
              "    .dataframe tbody tr th:only-of-type {\n",
              "        vertical-align: middle;\n",
              "    }\n",
              "\n",
              "    .dataframe tbody tr th {\n",
              "        vertical-align: top;\n",
              "    }\n",
              "\n",
              "    .dataframe thead th {\n",
              "        text-align: right;\n",
              "    }\n",
              "</style>\n",
              "<table border=\"1\" class=\"dataframe\">\n",
              "  <thead>\n",
              "    <tr style=\"text-align: right;\">\n",
              "      <th></th>\n",
              "      <th>comment_id</th>\n",
              "      <th>comment_body</th>\n",
              "      <th>subreddit</th>\n",
              "    </tr>\n",
              "  </thead>\n",
              "  <tbody>\n",
              "    <tr>\n",
              "      <th>0</th>\n",
              "      <td>iztdxuh</td>\n",
              "      <td>I've been shocked for days now, I don't need c...</td>\n",
              "      <td>r/ChatGPT</td>\n",
              "    </tr>\n",
              "    <tr>\n",
              "      <th>1</th>\n",
              "      <td>iztn0q0</td>\n",
              "      <td>\\n\\nI am so angry right now. I just wasted my...</td>\n",
              "      <td>r/ChatGPT</td>\n",
              "    </tr>\n",
              "    <tr>\n",
              "      <th>2</th>\n",
              "      <td>izudrph</td>\n",
              "      <td>chatgpt karma whoring is here folks! just when...</td>\n",
              "      <td>r/ChatGPT</td>\n",
              "    </tr>\n",
              "    <tr>\n",
              "      <th>3</th>\n",
              "      <td>iztfhtb</td>\n",
              "      <td>Worked on me, ngl.</td>\n",
              "      <td>r/ChatGPT</td>\n",
              "    </tr>\n",
              "    <tr>\n",
              "      <th>4</th>\n",
              "      <td>izu2as9</td>\n",
              "      <td>Certified 10/10, must-see moment. It really di...</td>\n",
              "      <td>r/ChatGPT</td>\n",
              "    </tr>\n",
              "  </tbody>\n",
              "</table>\n",
              "</div>\n",
              "      <button class=\"colab-df-convert\" onclick=\"convertToInteractive('df-50d060c4-3a38-47a4-934c-3f1182a5c813')\"\n",
              "              title=\"Convert this dataframe to an interactive table.\"\n",
              "              style=\"display:none;\">\n",
              "        \n",
              "  <svg xmlns=\"http://www.w3.org/2000/svg\" height=\"24px\"viewBox=\"0 0 24 24\"\n",
              "       width=\"24px\">\n",
              "    <path d=\"M0 0h24v24H0V0z\" fill=\"none\"/>\n",
              "    <path d=\"M18.56 5.44l.94 2.06.94-2.06 2.06-.94-2.06-.94-.94-2.06-.94 2.06-2.06.94zm-11 1L8.5 8.5l.94-2.06 2.06-.94-2.06-.94L8.5 2.5l-.94 2.06-2.06.94zm10 10l.94 2.06.94-2.06 2.06-.94-2.06-.94-.94-2.06-.94 2.06-2.06.94z\"/><path d=\"M17.41 7.96l-1.37-1.37c-.4-.4-.92-.59-1.43-.59-.52 0-1.04.2-1.43.59L10.3 9.45l-7.72 7.72c-.78.78-.78 2.05 0 2.83L4 21.41c.39.39.9.59 1.41.59.51 0 1.02-.2 1.41-.59l7.78-7.78 2.81-2.81c.8-.78.8-2.07 0-2.86zM5.41 20L4 18.59l7.72-7.72 1.47 1.35L5.41 20z\"/>\n",
              "  </svg>\n",
              "      </button>\n",
              "      \n",
              "  <style>\n",
              "    .colab-df-container {\n",
              "      display:flex;\n",
              "      flex-wrap:wrap;\n",
              "      gap: 12px;\n",
              "    }\n",
              "\n",
              "    .colab-df-convert {\n",
              "      background-color: #E8F0FE;\n",
              "      border: none;\n",
              "      border-radius: 50%;\n",
              "      cursor: pointer;\n",
              "      display: none;\n",
              "      fill: #1967D2;\n",
              "      height: 32px;\n",
              "      padding: 0 0 0 0;\n",
              "      width: 32px;\n",
              "    }\n",
              "\n",
              "    .colab-df-convert:hover {\n",
              "      background-color: #E2EBFA;\n",
              "      box-shadow: 0px 1px 2px rgba(60, 64, 67, 0.3), 0px 1px 3px 1px rgba(60, 64, 67, 0.15);\n",
              "      fill: #174EA6;\n",
              "    }\n",
              "\n",
              "    [theme=dark] .colab-df-convert {\n",
              "      background-color: #3B4455;\n",
              "      fill: #D2E3FC;\n",
              "    }\n",
              "\n",
              "    [theme=dark] .colab-df-convert:hover {\n",
              "      background-color: #434B5C;\n",
              "      box-shadow: 0px 1px 3px 1px rgba(0, 0, 0, 0.15);\n",
              "      filter: drop-shadow(0px 1px 2px rgba(0, 0, 0, 0.3));\n",
              "      fill: #FFFFFF;\n",
              "    }\n",
              "  </style>\n",
              "\n",
              "      <script>\n",
              "        const buttonEl =\n",
              "          document.querySelector('#df-50d060c4-3a38-47a4-934c-3f1182a5c813 button.colab-df-convert');\n",
              "        buttonEl.style.display =\n",
              "          google.colab.kernel.accessAllowed ? 'block' : 'none';\n",
              "\n",
              "        async function convertToInteractive(key) {\n",
              "          const element = document.querySelector('#df-50d060c4-3a38-47a4-934c-3f1182a5c813');\n",
              "          const dataTable =\n",
              "            await google.colab.kernel.invokeFunction('convertToInteractive',\n",
              "                                                     [key], {});\n",
              "          if (!dataTable) return;\n",
              "\n",
              "          const docLinkHtml = 'Like what you see? Visit the ' +\n",
              "            '<a target=\"_blank\" href=https://colab.research.google.com/notebooks/data_table.ipynb>data table notebook</a>'\n",
              "            + ' to learn more about interactive tables.';\n",
              "          element.innerHTML = '';\n",
              "          dataTable['output_type'] = 'display_data';\n",
              "          await google.colab.output.renderOutput(dataTable, element);\n",
              "          const docLink = document.createElement('div');\n",
              "          docLink.innerHTML = docLinkHtml;\n",
              "          element.appendChild(docLink);\n",
              "        }\n",
              "      </script>\n",
              "    </div>\n",
              "  </div>\n",
              "  "
            ]
          },
          "metadata": {},
          "execution_count": 5
        }
      ]
    },
    {
      "cell_type": "markdown",
      "source": [
        "The data has now been successfully loaded, now to investigate it. First, polarity scores are used to gain understanding of the sentiment behind the reddit comment."
      ],
      "metadata": {
        "id": "7DWBdWXHm_BQ"
      }
    },
    {
      "cell_type": "code",
      "source": [
        "sid = SentimentIntensityAnalyzer() #loads sentiment analysis tool\n",
        "res = [*df['comment_body'].apply(sid.polarity_scores)] #applies sentiment analysis through polarity scores to each comment\n",
        "pprint(res[:5]) # let's examine the first few comments, and see how their sentiment looks"
      ],
      "metadata": {
        "colab": {
          "base_uri": "https://localhost:8080/"
        },
        "id": "z4O1wFpX25qt",
        "outputId": "441b38e9-aa00-4318-e7e3-56b58a6791c5"
      },
      "execution_count": 6,
      "outputs": [
        {
          "output_type": "stream",
          "name": "stdout",
          "text": [
            "[{'compound': -0.3182, 'neg': 0.223, 'neu': 0.777, 'pos': 0.0},\n",
            " {'compound': -0.9837, 'neg': 0.201, 'neu': 0.734, 'pos': 0.065},\n",
            " {'compound': -0.2001, 'neg': 0.151, 'neu': 0.725, 'pos': 0.124},\n",
            " {'compound': 0.0, 'neg': 0.0, 'neu': 1.0, 'pos': 0.0},\n",
            " {'compound': -0.4364, 'neg': 0.207, 'neu': 0.793, 'pos': 0.0}]\n"
          ]
        }
      ]
    },
    {
      "cell_type": "code",
      "source": [
        "sentiment_df = pd.DataFrame.from_records(res) #creating dataframe of sentiment scores for each comment\n",
        "chatGpt = pd.concat([df, sentiment_df], axis=1, join=\"inner\")#combining dataframes to include all captured details\n",
        "\n",
        "chatGpt[\"Overall\"] = ''\n",
        "chatGpt.loc[chatGpt.compound>0, \"Overall\"] = \"Positive\"\n",
        "chatGpt.loc[chatGpt.compound==0, \"Overall\"] = \"Neutral\"\n",
        "chatGpt.loc[chatGpt.compound<0, \"Overall\"] = \"Negative\"\n",
        "\n",
        "chatGpt.head()"
      ],
      "metadata": {
        "colab": {
          "base_uri": "https://localhost:8080/",
          "height": 206
        },
        "id": "Mv9Q9Ris3SsQ",
        "outputId": "77e78178-3950-4471-8834-7053dee83f34"
      },
      "execution_count": 11,
      "outputs": [
        {
          "output_type": "execute_result",
          "data": {
            "text/plain": [
              "  comment_id                                       comment_body  subreddit  \\\n",
              "0    iztdxuh  I've been shocked for days now, I don't need c...  r/ChatGPT   \n",
              "1    iztn0q0   \\n\\nI am so angry right now. I just wasted my...  r/ChatGPT   \n",
              "2    izudrph  chatgpt karma whoring is here folks! just when...  r/ChatGPT   \n",
              "3    iztfhtb                                 Worked on me, ngl.  r/ChatGPT   \n",
              "4    izu2as9  Certified 10/10, must-see moment. It really di...  r/ChatGPT   \n",
              "\n",
              "     neg    neu    pos  compound   Overall  \n",
              "0  0.223  0.777  0.000   -0.3182  Negative  \n",
              "1  0.201  0.734  0.065   -0.9837  Negative  \n",
              "2  0.151  0.725  0.124   -0.2001  Negative  \n",
              "3  0.000  1.000  0.000    0.0000   Neutral  \n",
              "4  0.207  0.793  0.000   -0.4364  Negative  "
            ],
            "text/html": [
              "\n",
              "  <div id=\"df-9a0a6bf7-95a7-409a-803f-0c47ba3ef050\">\n",
              "    <div class=\"colab-df-container\">\n",
              "      <div>\n",
              "<style scoped>\n",
              "    .dataframe tbody tr th:only-of-type {\n",
              "        vertical-align: middle;\n",
              "    }\n",
              "\n",
              "    .dataframe tbody tr th {\n",
              "        vertical-align: top;\n",
              "    }\n",
              "\n",
              "    .dataframe thead th {\n",
              "        text-align: right;\n",
              "    }\n",
              "</style>\n",
              "<table border=\"1\" class=\"dataframe\">\n",
              "  <thead>\n",
              "    <tr style=\"text-align: right;\">\n",
              "      <th></th>\n",
              "      <th>comment_id</th>\n",
              "      <th>comment_body</th>\n",
              "      <th>subreddit</th>\n",
              "      <th>neg</th>\n",
              "      <th>neu</th>\n",
              "      <th>pos</th>\n",
              "      <th>compound</th>\n",
              "      <th>Overall</th>\n",
              "    </tr>\n",
              "  </thead>\n",
              "  <tbody>\n",
              "    <tr>\n",
              "      <th>0</th>\n",
              "      <td>iztdxuh</td>\n",
              "      <td>I've been shocked for days now, I don't need c...</td>\n",
              "      <td>r/ChatGPT</td>\n",
              "      <td>0.223</td>\n",
              "      <td>0.777</td>\n",
              "      <td>0.000</td>\n",
              "      <td>-0.3182</td>\n",
              "      <td>Negative</td>\n",
              "    </tr>\n",
              "    <tr>\n",
              "      <th>1</th>\n",
              "      <td>iztn0q0</td>\n",
              "      <td>\\n\\nI am so angry right now. I just wasted my...</td>\n",
              "      <td>r/ChatGPT</td>\n",
              "      <td>0.201</td>\n",
              "      <td>0.734</td>\n",
              "      <td>0.065</td>\n",
              "      <td>-0.9837</td>\n",
              "      <td>Negative</td>\n",
              "    </tr>\n",
              "    <tr>\n",
              "      <th>2</th>\n",
              "      <td>izudrph</td>\n",
              "      <td>chatgpt karma whoring is here folks! just when...</td>\n",
              "      <td>r/ChatGPT</td>\n",
              "      <td>0.151</td>\n",
              "      <td>0.725</td>\n",
              "      <td>0.124</td>\n",
              "      <td>-0.2001</td>\n",
              "      <td>Negative</td>\n",
              "    </tr>\n",
              "    <tr>\n",
              "      <th>3</th>\n",
              "      <td>iztfhtb</td>\n",
              "      <td>Worked on me, ngl.</td>\n",
              "      <td>r/ChatGPT</td>\n",
              "      <td>0.000</td>\n",
              "      <td>1.000</td>\n",
              "      <td>0.000</td>\n",
              "      <td>0.0000</td>\n",
              "      <td>Neutral</td>\n",
              "    </tr>\n",
              "    <tr>\n",
              "      <th>4</th>\n",
              "      <td>izu2as9</td>\n",
              "      <td>Certified 10/10, must-see moment. It really di...</td>\n",
              "      <td>r/ChatGPT</td>\n",
              "      <td>0.207</td>\n",
              "      <td>0.793</td>\n",
              "      <td>0.000</td>\n",
              "      <td>-0.4364</td>\n",
              "      <td>Negative</td>\n",
              "    </tr>\n",
              "  </tbody>\n",
              "</table>\n",
              "</div>\n",
              "      <button class=\"colab-df-convert\" onclick=\"convertToInteractive('df-9a0a6bf7-95a7-409a-803f-0c47ba3ef050')\"\n",
              "              title=\"Convert this dataframe to an interactive table.\"\n",
              "              style=\"display:none;\">\n",
              "        \n",
              "  <svg xmlns=\"http://www.w3.org/2000/svg\" height=\"24px\"viewBox=\"0 0 24 24\"\n",
              "       width=\"24px\">\n",
              "    <path d=\"M0 0h24v24H0V0z\" fill=\"none\"/>\n",
              "    <path d=\"M18.56 5.44l.94 2.06.94-2.06 2.06-.94-2.06-.94-.94-2.06-.94 2.06-2.06.94zm-11 1L8.5 8.5l.94-2.06 2.06-.94-2.06-.94L8.5 2.5l-.94 2.06-2.06.94zm10 10l.94 2.06.94-2.06 2.06-.94-2.06-.94-.94-2.06-.94 2.06-2.06.94z\"/><path d=\"M17.41 7.96l-1.37-1.37c-.4-.4-.92-.59-1.43-.59-.52 0-1.04.2-1.43.59L10.3 9.45l-7.72 7.72c-.78.78-.78 2.05 0 2.83L4 21.41c.39.39.9.59 1.41.59.51 0 1.02-.2 1.41-.59l7.78-7.78 2.81-2.81c.8-.78.8-2.07 0-2.86zM5.41 20L4 18.59l7.72-7.72 1.47 1.35L5.41 20z\"/>\n",
              "  </svg>\n",
              "      </button>\n",
              "      \n",
              "  <style>\n",
              "    .colab-df-container {\n",
              "      display:flex;\n",
              "      flex-wrap:wrap;\n",
              "      gap: 12px;\n",
              "    }\n",
              "\n",
              "    .colab-df-convert {\n",
              "      background-color: #E8F0FE;\n",
              "      border: none;\n",
              "      border-radius: 50%;\n",
              "      cursor: pointer;\n",
              "      display: none;\n",
              "      fill: #1967D2;\n",
              "      height: 32px;\n",
              "      padding: 0 0 0 0;\n",
              "      width: 32px;\n",
              "    }\n",
              "\n",
              "    .colab-df-convert:hover {\n",
              "      background-color: #E2EBFA;\n",
              "      box-shadow: 0px 1px 2px rgba(60, 64, 67, 0.3), 0px 1px 3px 1px rgba(60, 64, 67, 0.15);\n",
              "      fill: #174EA6;\n",
              "    }\n",
              "\n",
              "    [theme=dark] .colab-df-convert {\n",
              "      background-color: #3B4455;\n",
              "      fill: #D2E3FC;\n",
              "    }\n",
              "\n",
              "    [theme=dark] .colab-df-convert:hover {\n",
              "      background-color: #434B5C;\n",
              "      box-shadow: 0px 1px 3px 1px rgba(0, 0, 0, 0.15);\n",
              "      filter: drop-shadow(0px 1px 2px rgba(0, 0, 0, 0.3));\n",
              "      fill: #FFFFFF;\n",
              "    }\n",
              "  </style>\n",
              "\n",
              "      <script>\n",
              "        const buttonEl =\n",
              "          document.querySelector('#df-9a0a6bf7-95a7-409a-803f-0c47ba3ef050 button.colab-df-convert');\n",
              "        buttonEl.style.display =\n",
              "          google.colab.kernel.accessAllowed ? 'block' : 'none';\n",
              "\n",
              "        async function convertToInteractive(key) {\n",
              "          const element = document.querySelector('#df-9a0a6bf7-95a7-409a-803f-0c47ba3ef050');\n",
              "          const dataTable =\n",
              "            await google.colab.kernel.invokeFunction('convertToInteractive',\n",
              "                                                     [key], {});\n",
              "          if (!dataTable) return;\n",
              "\n",
              "          const docLinkHtml = 'Like what you see? Visit the ' +\n",
              "            '<a target=\"_blank\" href=https://colab.research.google.com/notebooks/data_table.ipynb>data table notebook</a>'\n",
              "            + ' to learn more about interactive tables.';\n",
              "          element.innerHTML = '';\n",
              "          dataTable['output_type'] = 'display_data';\n",
              "          await google.colab.output.renderOutput(dataTable, element);\n",
              "          const docLink = document.createElement('div');\n",
              "          docLink.innerHTML = docLinkHtml;\n",
              "          element.appendChild(docLink);\n",
              "        }\n",
              "      </script>\n",
              "    </div>\n",
              "  </div>\n",
              "  "
            ]
          },
          "metadata": {},
          "execution_count": 11
        }
      ]
    },
    {
      "cell_type": "code",
      "source": [
        "negAvg = chatGpt[\"neg\"].mean()\n",
        "neuAvg = chatGpt[\"neu\"].mean()\n",
        "posAvg = chatGpt[\"pos\"].mean()\n",
        "mostCommonSentiment = chatGpt[\"Overall\"].mode()\n",
        "\n",
        "print(f'The mean negative score: {negAvg}')\n",
        "print(f'The mean neutral score: {neuAvg}')\n",
        "print(f'The mean positive score: {posAvg}')\n",
        "\n",
        "objects_ = (\"Postive\", \"Neutral\", \"Negative\")\n",
        "y_pos = np.arange(len(objects_))\n",
        "performance = [posAvg,neuAvg,negAvg]\n",
        "\n",
        "plt.bar(y_pos, performance, align='center', alpha=0.5)\n",
        "plt.xticks(y_pos, objects_)\n",
        "plt.ylabel(\"Mean Score\")\n",
        "plt.xlabel(\"Sentiment\")\n",
        "plt.show()\n"
      ],
      "metadata": {
        "id": "ir2Uon6P3YpQ",
        "colab": {
          "base_uri": "https://localhost:8080/",
          "height": 604
        },
        "outputId": "c6648d90-f4fa-4b92-fd3e-f9cc44dc9966"
      },
      "execution_count": 32,
      "outputs": [
        {
          "output_type": "stream",
          "name": "stdout",
          "text": [
            "The mean negative score: 0.06852215968711246\n",
            "The mean neutral score: 0.8064694266908328\n",
            "The mean positive score: 0.12369304588381189\n"
          ]
        },
        {
          "output_type": "display_data",
          "data": {
            "text/plain": [
              "<Figure size 800x600 with 1 Axes>"
            ],
            "image/png": "[encoded data removed]"
          },
          "metadata": {}
        }
      ]
    },
    {
      "cell_type": "markdown",
      "source": [],
      "metadata": {
        "id": "m_vegj5rpUZH"
      }
    },
    {
      "cell_type": "code",
      "source": [
        "\n",
        "classedPos = chatGpt[chatGpt.Overall == \"Positive\"].shape[0]\n",
        "classedNeu = chatGpt[chatGpt.Overall == \"Neutral\"].shape[0]\n",
        "classedNeg = chatGpt[chatGpt.Overall == \"Negative\"].shape[0]\n",
        "\n",
        "objects = (\"Positive\", \"Neutral\", \"Negative\")\n",
        "y_pos = np.arange(len(objects_))\n",
        "performance = [classedPos,classedNeu,classedNeg]\n",
        "\n",
        "\n",
        "plt.bar(y_pos, performance, align='center', alpha=0.5)\n",
        "plt.xticks(y_pos, objects_)\n",
        "plt.ylabel(\"Overall Count\")\n",
        "plt.xlabel(\"Sentiment\")\n",
        "plt.show()\n",
        "\n",
        "print(f'The overall consensus appears to be: {mostCommonSentiment[0]}')\n"
      ],
      "metadata": {
        "colab": {
          "base_uri": "https://localhost:8080/",
          "height": 568
        },
        "id": "S2GMzgQlt1xW",
        "outputId": "dad8d543-3541-4c7d-9ea9-e7055bab6a84"
      },
      "execution_count": 47,
      "outputs": [
        {
          "output_type": "display_data",
          "data": {
            "text/plain": [
              "<Figure size 800x600 with 1 Axes>"
            ],
            "image/png": "[encoded data removed]"
          },
          "metadata": {}
        },
        {
          "output_type": "stream",
          "name": "stdout",
          "text": [
            "The overall consensus appears to be: Positive\n"
          ]
        }
      ]
    },
    {
      "cell_type": "markdown",
      "source": [
        "As witnessed, the dataset showcases that across the reddit communities observed in the dataset, the overall consensus appears that there is a positive view on chatGpt as of the time of the comments posting.\n",
        "\n",
        "\n",
        "It is important to keep in mind how this may have changed over time, as the capabilities of chatGpt became more pronounced, and people became aware of new uses for the ai chatbot.\n",
        "\n",
        "\n",
        "Future sentiment/NLP analysis conducted around the introduciton of GPT-4 would be a solid successor to this work."
      ],
      "metadata": {
        "id": "zP3WdHZmv7ub"
      }
    }
  ]
}